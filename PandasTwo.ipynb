{
 "cells": [
  {
   "cell_type": "code",
   "execution_count": 1,
   "id": "24d64f16",
   "metadata": {},
   "outputs": [
    {
     "data": {
      "text/html": [
       "<style type=\"text/css\">\n",
       "#T_aacca th {\n",
       "  font-size: 12pt;\n",
       "  border-style: solid;\n",
       "  border-width: 1px;\n",
       "}\n",
       "#T_aacca td {\n",
       "  font-size: 12pt;\n",
       "  border-style: solid;\n",
       "  border-width: 1px;\n",
       "}\n",
       "</style>\n",
       "<table id=\"T_aacca\">\n",
       "  <thead>\n",
       "    <tr>\n",
       "      <th class=\"blank level0\" >&nbsp;</th>\n",
       "      <th id=\"T_aacca_level0_col0\" class=\"col_heading level0 col0\" >Unnamed: 0</th>\n",
       "      <th id=\"T_aacca_level0_col1\" class=\"col_heading level0 col1\" >day</th>\n",
       "      <th id=\"T_aacca_level0_col2\" class=\"col_heading level0 col2\" >temp</th>\n",
       "      <th id=\"T_aacca_level0_col3\" class=\"col_heading level0 col3\" >windspeed</th>\n",
       "      <th id=\"T_aacca_level0_col4\" class=\"col_heading level0 col4\" >event</th>\n",
       "    </tr>\n",
       "  </thead>\n",
       "  <tbody>\n",
       "    <tr>\n",
       "      <th id=\"T_aacca_level0_row0\" class=\"row_heading level0 row0\" >0</th>\n",
       "      <td id=\"T_aacca_row0_col0\" class=\"data row0 col0\" >0</td>\n",
       "      <td id=\"T_aacca_row0_col1\" class=\"data row0 col1\" >1/1/2017</td>\n",
       "      <td id=\"T_aacca_row0_col2\" class=\"data row0 col2\" >32</td>\n",
       "      <td id=\"T_aacca_row0_col3\" class=\"data row0 col3\" >6</td>\n",
       "      <td id=\"T_aacca_row0_col4\" class=\"data row0 col4\" >Rain</td>\n",
       "    </tr>\n",
       "    <tr>\n",
       "      <th id=\"T_aacca_level0_row1\" class=\"row_heading level0 row1\" >1</th>\n",
       "      <td id=\"T_aacca_row1_col0\" class=\"data row1 col0\" >1</td>\n",
       "      <td id=\"T_aacca_row1_col1\" class=\"data row1 col1\" >1/2/2017</td>\n",
       "      <td id=\"T_aacca_row1_col2\" class=\"data row1 col2\" >35</td>\n",
       "      <td id=\"T_aacca_row1_col3\" class=\"data row1 col3\" >7</td>\n",
       "      <td id=\"T_aacca_row1_col4\" class=\"data row1 col4\" >Sunny</td>\n",
       "    </tr>\n",
       "    <tr>\n",
       "      <th id=\"T_aacca_level0_row2\" class=\"row_heading level0 row2\" >2</th>\n",
       "      <td id=\"T_aacca_row2_col0\" class=\"data row2 col0\" >2</td>\n",
       "      <td id=\"T_aacca_row2_col1\" class=\"data row2 col1\" >1/3/2017</td>\n",
       "      <td id=\"T_aacca_row2_col2\" class=\"data row2 col2\" >28</td>\n",
       "      <td id=\"T_aacca_row2_col3\" class=\"data row2 col3\" >2</td>\n",
       "      <td id=\"T_aacca_row2_col4\" class=\"data row2 col4\" >Snow</td>\n",
       "    </tr>\n",
       "    <tr>\n",
       "      <th id=\"T_aacca_level0_row3\" class=\"row_heading level0 row3\" >3</th>\n",
       "      <td id=\"T_aacca_row3_col0\" class=\"data row3 col0\" >3</td>\n",
       "      <td id=\"T_aacca_row3_col1\" class=\"data row3 col1\" >1/4/2017</td>\n",
       "      <td id=\"T_aacca_row3_col2\" class=\"data row3 col2\" >24</td>\n",
       "      <td id=\"T_aacca_row3_col3\" class=\"data row3 col3\" >7</td>\n",
       "      <td id=\"T_aacca_row3_col4\" class=\"data row3 col4\" >Snow</td>\n",
       "    </tr>\n",
       "    <tr>\n",
       "      <th id=\"T_aacca_level0_row4\" class=\"row_heading level0 row4\" >4</th>\n",
       "      <td id=\"T_aacca_row4_col0\" class=\"data row4 col0\" >4</td>\n",
       "      <td id=\"T_aacca_row4_col1\" class=\"data row4 col1\" >1/5/2017</td>\n",
       "      <td id=\"T_aacca_row4_col2\" class=\"data row4 col2\" >32</td>\n",
       "      <td id=\"T_aacca_row4_col3\" class=\"data row4 col3\" >4</td>\n",
       "      <td id=\"T_aacca_row4_col4\" class=\"data row4 col4\" >Rain</td>\n",
       "    </tr>\n",
       "    <tr>\n",
       "      <th id=\"T_aacca_level0_row5\" class=\"row_heading level0 row5\" >5</th>\n",
       "      <td id=\"T_aacca_row5_col0\" class=\"data row5 col0\" >5</td>\n",
       "      <td id=\"T_aacca_row5_col1\" class=\"data row5 col1\" >1/6/2017</td>\n",
       "      <td id=\"T_aacca_row5_col2\" class=\"data row5 col2\" >32</td>\n",
       "      <td id=\"T_aacca_row5_col3\" class=\"data row5 col3\" >2</td>\n",
       "      <td id=\"T_aacca_row5_col4\" class=\"data row5 col4\" >Sunny</td>\n",
       "    </tr>\n",
       "  </tbody>\n",
       "</table>\n"
      ],
      "text/plain": [
       "<pandas.io.formats.style.Styler at 0x1bd6b35abb0>"
      ]
     },
     "execution_count": 1,
     "metadata": {},
     "output_type": "execute_result"
    }
   ],
   "source": [
    "import pandas as pd\n",
    "df = pd.read_csv('C:/Users/udoha/Desktop/daytempFileCSV.csv')\n",
    "df.style.set_table_styles([{'selector': 'th,td', 'props': [('font-size', '12pt'),('border-style','solid'),('border-width','1px')]}])"
   ]
  },
  {
   "cell_type": "code",
   "execution_count": 2,
   "id": "5873da78",
   "metadata": {},
   "outputs": [
    {
     "data": {
      "text/html": [
       "<style type=\"text/css\">\n",
       "#T_1b213 th {\n",
       "  font-size: 12pt;\n",
       "  border-style: solid;\n",
       "  border-width: 1px;\n",
       "}\n",
       "#T_1b213 td {\n",
       "  font-size: 12pt;\n",
       "  border-style: solid;\n",
       "  border-width: 1px;\n",
       "}\n",
       "</style>\n",
       "<table id=\"T_1b213\">\n",
       "  <thead>\n",
       "    <tr>\n",
       "      <th class=\"blank level0\" >&nbsp;</th>\n",
       "      <th id=\"T_1b213_level0_col0\" class=\"col_heading level0 col0\" >Unnamed: 0</th>\n",
       "      <th id=\"T_1b213_level0_col1\" class=\"col_heading level0 col1\" >day</th>\n",
       "      <th id=\"T_1b213_level0_col2\" class=\"col_heading level0 col2\" >temp</th>\n",
       "      <th id=\"T_1b213_level0_col3\" class=\"col_heading level0 col3\" >windspeed</th>\n",
       "      <th id=\"T_1b213_level0_col4\" class=\"col_heading level0 col4\" >event</th>\n",
       "    </tr>\n",
       "  </thead>\n",
       "  <tbody>\n",
       "    <tr>\n",
       "      <th id=\"T_1b213_level0_row0\" class=\"row_heading level0 row0\" >0</th>\n",
       "      <td id=\"T_1b213_row0_col0\" class=\"data row0 col0\" >0</td>\n",
       "      <td id=\"T_1b213_row0_col1\" class=\"data row0 col1\" >1/1/2017</td>\n",
       "      <td id=\"T_1b213_row0_col2\" class=\"data row0 col2\" >32</td>\n",
       "      <td id=\"T_1b213_row0_col3\" class=\"data row0 col3\" >6</td>\n",
       "      <td id=\"T_1b213_row0_col4\" class=\"data row0 col4\" >Rain</td>\n",
       "    </tr>\n",
       "    <tr>\n",
       "      <th id=\"T_1b213_level0_row1\" class=\"row_heading level0 row1\" >1</th>\n",
       "      <td id=\"T_1b213_row1_col0\" class=\"data row1 col0\" >1</td>\n",
       "      <td id=\"T_1b213_row1_col1\" class=\"data row1 col1\" >1/2/2017</td>\n",
       "      <td id=\"T_1b213_row1_col2\" class=\"data row1 col2\" >35</td>\n",
       "      <td id=\"T_1b213_row1_col3\" class=\"data row1 col3\" >7</td>\n",
       "      <td id=\"T_1b213_row1_col4\" class=\"data row1 col4\" >Sunny</td>\n",
       "    </tr>\n",
       "    <tr>\n",
       "      <th id=\"T_1b213_level0_row2\" class=\"row_heading level0 row2\" >2</th>\n",
       "      <td id=\"T_1b213_row2_col0\" class=\"data row2 col0\" >2</td>\n",
       "      <td id=\"T_1b213_row2_col1\" class=\"data row2 col1\" >1/3/2017</td>\n",
       "      <td id=\"T_1b213_row2_col2\" class=\"data row2 col2\" >28</td>\n",
       "      <td id=\"T_1b213_row2_col3\" class=\"data row2 col3\" >2</td>\n",
       "      <td id=\"T_1b213_row2_col4\" class=\"data row2 col4\" >Snow</td>\n",
       "    </tr>\n",
       "    <tr>\n",
       "      <th id=\"T_1b213_level0_row3\" class=\"row_heading level0 row3\" >3</th>\n",
       "      <td id=\"T_1b213_row3_col0\" class=\"data row3 col0\" >3</td>\n",
       "      <td id=\"T_1b213_row3_col1\" class=\"data row3 col1\" >1/4/2017</td>\n",
       "      <td id=\"T_1b213_row3_col2\" class=\"data row3 col2\" >24</td>\n",
       "      <td id=\"T_1b213_row3_col3\" class=\"data row3 col3\" >7</td>\n",
       "      <td id=\"T_1b213_row3_col4\" class=\"data row3 col4\" >Snow</td>\n",
       "    </tr>\n",
       "    <tr>\n",
       "      <th id=\"T_1b213_level0_row4\" class=\"row_heading level0 row4\" >4</th>\n",
       "      <td id=\"T_1b213_row4_col0\" class=\"data row4 col0\" >4</td>\n",
       "      <td id=\"T_1b213_row4_col1\" class=\"data row4 col1\" >1/5/2017</td>\n",
       "      <td id=\"T_1b213_row4_col2\" class=\"data row4 col2\" >32</td>\n",
       "      <td id=\"T_1b213_row4_col3\" class=\"data row4 col3\" >4</td>\n",
       "      <td id=\"T_1b213_row4_col4\" class=\"data row4 col4\" >Rain</td>\n",
       "    </tr>\n",
       "    <tr>\n",
       "      <th id=\"T_1b213_level0_row5\" class=\"row_heading level0 row5\" >5</th>\n",
       "      <td id=\"T_1b213_row5_col0\" class=\"data row5 col0\" >5</td>\n",
       "      <td id=\"T_1b213_row5_col1\" class=\"data row5 col1\" >1/6/2017</td>\n",
       "      <td id=\"T_1b213_row5_col2\" class=\"data row5 col2\" >32</td>\n",
       "      <td id=\"T_1b213_row5_col3\" class=\"data row5 col3\" >2</td>\n",
       "      <td id=\"T_1b213_row5_col4\" class=\"data row5 col4\" >Sunny</td>\n",
       "    </tr>\n",
       "  </tbody>\n",
       "</table>\n"
      ],
      "text/plain": [
       "<pandas.io.formats.style.Styler at 0x1bd6e547f40>"
      ]
     },
     "execution_count": 2,
     "metadata": {},
     "output_type": "execute_result"
    }
   ],
   "source": [
    "df.head(3)\n",
    "df.style.set_table_styles([{'selector': 'th,td', 'props': [('font-size', '12pt'),('border-style','solid'),('border-width','1px')]}])"
   ]
  },
  {
   "cell_type": "code",
   "execution_count": 3,
   "id": "18c3ec0b",
   "metadata": {},
   "outputs": [
    {
     "data": {
      "text/html": [
       "<style type=\"text/css\">\n",
       "#T_497bd th {\n",
       "  font-size: 12pt;\n",
       "  border-style: solid;\n",
       "  border-width: 1px;\n",
       "}\n",
       "#T_497bd td {\n",
       "  font-size: 12pt;\n",
       "  border-style: solid;\n",
       "  border-width: 1px;\n",
       "}\n",
       "</style>\n",
       "<table id=\"T_497bd\">\n",
       "  <thead>\n",
       "    <tr>\n",
       "      <th class=\"blank level0\" >&nbsp;</th>\n",
       "      <th id=\"T_497bd_level0_col0\" class=\"col_heading level0 col0\" >Unnamed: 0</th>\n",
       "      <th id=\"T_497bd_level0_col1\" class=\"col_heading level0 col1\" >day</th>\n",
       "      <th id=\"T_497bd_level0_col2\" class=\"col_heading level0 col2\" >temp</th>\n",
       "      <th id=\"T_497bd_level0_col3\" class=\"col_heading level0 col3\" >windspeed</th>\n",
       "      <th id=\"T_497bd_level0_col4\" class=\"col_heading level0 col4\" >event</th>\n",
       "    </tr>\n",
       "  </thead>\n",
       "  <tbody>\n",
       "    <tr>\n",
       "      <th id=\"T_497bd_level0_row0\" class=\"row_heading level0 row0\" >4</th>\n",
       "      <td id=\"T_497bd_row0_col0\" class=\"data row0 col0\" >4</td>\n",
       "      <td id=\"T_497bd_row0_col1\" class=\"data row0 col1\" >1/5/2017</td>\n",
       "      <td id=\"T_497bd_row0_col2\" class=\"data row0 col2\" >32</td>\n",
       "      <td id=\"T_497bd_row0_col3\" class=\"data row0 col3\" >4</td>\n",
       "      <td id=\"T_497bd_row0_col4\" class=\"data row0 col4\" >Rain</td>\n",
       "    </tr>\n",
       "    <tr>\n",
       "      <th id=\"T_497bd_level0_row1\" class=\"row_heading level0 row1\" >5</th>\n",
       "      <td id=\"T_497bd_row1_col0\" class=\"data row1 col0\" >5</td>\n",
       "      <td id=\"T_497bd_row1_col1\" class=\"data row1 col1\" >1/6/2017</td>\n",
       "      <td id=\"T_497bd_row1_col2\" class=\"data row1 col2\" >32</td>\n",
       "      <td id=\"T_497bd_row1_col3\" class=\"data row1 col3\" >2</td>\n",
       "      <td id=\"T_497bd_row1_col4\" class=\"data row1 col4\" >Sunny</td>\n",
       "    </tr>\n",
       "  </tbody>\n",
       "</table>\n"
      ],
      "text/plain": [
       "<pandas.io.formats.style.Styler at 0x1bd6b35a970>"
      ]
     },
     "execution_count": 3,
     "metadata": {},
     "output_type": "execute_result"
    }
   ],
   "source": [
    "\n",
    "df.tail(2).style.set_table_styles([{'selector': 'th,td', 'props': [('font-size', '12pt'),('border-style','solid'),('border-width','1px')]}])"
   ]
  },
  {
   "cell_type": "markdown",
   "id": "163a28c8",
   "metadata": {},
   "source": [
    "# slicing\n"
   ]
  },
  {
   "cell_type": "code",
   "execution_count": 4,
   "id": "b5659d6d",
   "metadata": {},
   "outputs": [
    {
     "data": {
      "text/html": [
       "<style type=\"text/css\">\n",
       "#T_ccbd9 th {\n",
       "  font-size: 12pt;\n",
       "  border-style: solid;\n",
       "  border-width: 1px;\n",
       "}\n",
       "#T_ccbd9 td {\n",
       "  font-size: 12pt;\n",
       "  border-style: solid;\n",
       "  border-width: 1px;\n",
       "}\n",
       "</style>\n",
       "<table id=\"T_ccbd9\">\n",
       "  <thead>\n",
       "    <tr>\n",
       "      <th class=\"blank level0\" >&nbsp;</th>\n",
       "      <th id=\"T_ccbd9_level0_col0\" class=\"col_heading level0 col0\" >Unnamed: 0</th>\n",
       "      <th id=\"T_ccbd9_level0_col1\" class=\"col_heading level0 col1\" >day</th>\n",
       "      <th id=\"T_ccbd9_level0_col2\" class=\"col_heading level0 col2\" >temp</th>\n",
       "      <th id=\"T_ccbd9_level0_col3\" class=\"col_heading level0 col3\" >windspeed</th>\n",
       "      <th id=\"T_ccbd9_level0_col4\" class=\"col_heading level0 col4\" >event</th>\n",
       "    </tr>\n",
       "  </thead>\n",
       "  <tbody>\n",
       "    <tr>\n",
       "      <th id=\"T_ccbd9_level0_row0\" class=\"row_heading level0 row0\" >3</th>\n",
       "      <td id=\"T_ccbd9_row0_col0\" class=\"data row0 col0\" >3</td>\n",
       "      <td id=\"T_ccbd9_row0_col1\" class=\"data row0 col1\" >1/4/2017</td>\n",
       "      <td id=\"T_ccbd9_row0_col2\" class=\"data row0 col2\" >24</td>\n",
       "      <td id=\"T_ccbd9_row0_col3\" class=\"data row0 col3\" >7</td>\n",
       "      <td id=\"T_ccbd9_row0_col4\" class=\"data row0 col4\" >Snow</td>\n",
       "    </tr>\n",
       "    <tr>\n",
       "      <th id=\"T_ccbd9_level0_row1\" class=\"row_heading level0 row1\" >4</th>\n",
       "      <td id=\"T_ccbd9_row1_col0\" class=\"data row1 col0\" >4</td>\n",
       "      <td id=\"T_ccbd9_row1_col1\" class=\"data row1 col1\" >1/5/2017</td>\n",
       "      <td id=\"T_ccbd9_row1_col2\" class=\"data row1 col2\" >32</td>\n",
       "      <td id=\"T_ccbd9_row1_col3\" class=\"data row1 col3\" >4</td>\n",
       "      <td id=\"T_ccbd9_row1_col4\" class=\"data row1 col4\" >Rain</td>\n",
       "    </tr>\n",
       "  </tbody>\n",
       "</table>\n"
      ],
      "text/plain": [
       "<pandas.io.formats.style.Styler at 0x1bd6e5865e0>"
      ]
     },
     "execution_count": 4,
     "metadata": {},
     "output_type": "execute_result"
    }
   ],
   "source": [
    "df[2:5].tail(2).style.set_table_styles([{'selector': 'th,td', 'props': [('font-size', '12pt'),('border-style','solid'),('border-width','1px')]}])\n"
   ]
  },
  {
   "cell_type": "code",
   "execution_count": 5,
   "id": "3ec43349",
   "metadata": {},
   "outputs": [
    {
     "data": {
      "text/plain": [
       "Index(['Unnamed: 0', 'day', 'temp', 'windspeed', 'event'], dtype='object')"
      ]
     },
     "execution_count": 5,
     "metadata": {},
     "output_type": "execute_result"
    }
   ],
   "source": [
    "df.columns\n"
   ]
  },
  {
   "cell_type": "code",
   "execution_count": 6,
   "id": "402ab223",
   "metadata": {},
   "outputs": [
    {
     "data": {
      "text/plain": [
       "0    1/1/2017\n",
       "1    1/2/2017\n",
       "2    1/3/2017\n",
       "3    1/4/2017\n",
       "4    1/5/2017\n",
       "5    1/6/2017\n",
       "Name: day, dtype: object"
      ]
     },
     "execution_count": 6,
     "metadata": {},
     "output_type": "execute_result"
    }
   ],
   "source": [
    "df.day"
   ]
  },
  {
   "cell_type": "code",
   "execution_count": 7,
   "id": "443ac75f",
   "metadata": {},
   "outputs": [
    {
     "data": {
      "text/plain": [
       "0     Rain\n",
       "1    Sunny\n",
       "2     Snow\n",
       "3     Snow\n",
       "4     Rain\n",
       "5    Sunny\n",
       "Name: event, dtype: object"
      ]
     },
     "execution_count": 7,
     "metadata": {},
     "output_type": "execute_result"
    }
   ],
   "source": [
    "df['event']"
   ]
  },
  {
   "cell_type": "markdown",
   "id": "8206de9e",
   "metadata": {},
   "source": [
    "# print few columns\n",
    "## to do that, you will have to open two square brackets, and input the columns u want to print out"
   ]
  },
  {
   "cell_type": "code",
   "execution_count": 8,
   "id": "28a2eff5",
   "metadata": {},
   "outputs": [
    {
     "data": {
      "text/html": [
       "<div>\n",
       "<style scoped>\n",
       "    .dataframe tbody tr th:only-of-type {\n",
       "        vertical-align: middle;\n",
       "    }\n",
       "\n",
       "    .dataframe tbody tr th {\n",
       "        vertical-align: top;\n",
       "    }\n",
       "\n",
       "    .dataframe thead th {\n",
       "        text-align: right;\n",
       "    }\n",
       "</style>\n",
       "<table border=\"1\" class=\"dataframe\">\n",
       "  <thead>\n",
       "    <tr style=\"text-align: right;\">\n",
       "      <th></th>\n",
       "      <th>event</th>\n",
       "      <th>day</th>\n",
       "      <th>temp</th>\n",
       "    </tr>\n",
       "  </thead>\n",
       "  <tbody>\n",
       "    <tr>\n",
       "      <th>0</th>\n",
       "      <td>Rain</td>\n",
       "      <td>1/1/2017</td>\n",
       "      <td>32</td>\n",
       "    </tr>\n",
       "    <tr>\n",
       "      <th>1</th>\n",
       "      <td>Sunny</td>\n",
       "      <td>1/2/2017</td>\n",
       "      <td>35</td>\n",
       "    </tr>\n",
       "    <tr>\n",
       "      <th>2</th>\n",
       "      <td>Snow</td>\n",
       "      <td>1/3/2017</td>\n",
       "      <td>28</td>\n",
       "    </tr>\n",
       "    <tr>\n",
       "      <th>3</th>\n",
       "      <td>Snow</td>\n",
       "      <td>1/4/2017</td>\n",
       "      <td>24</td>\n",
       "    </tr>\n",
       "    <tr>\n",
       "      <th>4</th>\n",
       "      <td>Rain</td>\n",
       "      <td>1/5/2017</td>\n",
       "      <td>32</td>\n",
       "    </tr>\n",
       "    <tr>\n",
       "      <th>5</th>\n",
       "      <td>Sunny</td>\n",
       "      <td>1/6/2017</td>\n",
       "      <td>32</td>\n",
       "    </tr>\n",
       "  </tbody>\n",
       "</table>\n",
       "</div>"
      ],
      "text/plain": [
       "   event       day  temp\n",
       "0   Rain  1/1/2017    32\n",
       "1  Sunny  1/2/2017    35\n",
       "2   Snow  1/3/2017    28\n",
       "3   Snow  1/4/2017    24\n",
       "4   Rain  1/5/2017    32\n",
       "5  Sunny  1/6/2017    32"
      ]
     },
     "execution_count": 8,
     "metadata": {},
     "output_type": "execute_result"
    }
   ],
   "source": [
    "df[['event', 'day','temp']]"
   ]
  },
  {
   "cell_type": "code",
   "execution_count": 9,
   "id": "12ff4c29",
   "metadata": {},
   "outputs": [
    {
     "data": {
      "text/plain": [
       "35"
      ]
     },
     "execution_count": 9,
     "metadata": {},
     "output_type": "execute_result"
    }
   ],
   "source": [
    "df['temp'].max()"
   ]
  },
  {
   "cell_type": "code",
   "execution_count": 10,
   "id": "f9ba0241",
   "metadata": {},
   "outputs": [
    {
     "data": {
      "text/plain": [
       "24"
      ]
     },
     "execution_count": 10,
     "metadata": {},
     "output_type": "execute_result"
    }
   ],
   "source": [
    "df['temp'].min()"
   ]
  },
  {
   "cell_type": "code",
   "execution_count": 11,
   "id": "06c9be59",
   "metadata": {},
   "outputs": [
    {
     "data": {
      "text/html": [
       "<div>\n",
       "<style scoped>\n",
       "    .dataframe tbody tr th:only-of-type {\n",
       "        vertical-align: middle;\n",
       "    }\n",
       "\n",
       "    .dataframe tbody tr th {\n",
       "        vertical-align: top;\n",
       "    }\n",
       "\n",
       "    .dataframe thead th {\n",
       "        text-align: right;\n",
       "    }\n",
       "</style>\n",
       "<table border=\"1\" class=\"dataframe\">\n",
       "  <thead>\n",
       "    <tr style=\"text-align: right;\">\n",
       "      <th></th>\n",
       "      <th>Unnamed: 0</th>\n",
       "      <th>temp</th>\n",
       "      <th>windspeed</th>\n",
       "    </tr>\n",
       "  </thead>\n",
       "  <tbody>\n",
       "    <tr>\n",
       "      <th>count</th>\n",
       "      <td>6.000000</td>\n",
       "      <td>6.000000</td>\n",
       "      <td>6.000000</td>\n",
       "    </tr>\n",
       "    <tr>\n",
       "      <th>mean</th>\n",
       "      <td>2.500000</td>\n",
       "      <td>30.500000</td>\n",
       "      <td>4.666667</td>\n",
       "    </tr>\n",
       "    <tr>\n",
       "      <th>std</th>\n",
       "      <td>1.870829</td>\n",
       "      <td>3.885872</td>\n",
       "      <td>2.338090</td>\n",
       "    </tr>\n",
       "    <tr>\n",
       "      <th>min</th>\n",
       "      <td>0.000000</td>\n",
       "      <td>24.000000</td>\n",
       "      <td>2.000000</td>\n",
       "    </tr>\n",
       "    <tr>\n",
       "      <th>25%</th>\n",
       "      <td>1.250000</td>\n",
       "      <td>29.000000</td>\n",
       "      <td>2.500000</td>\n",
       "    </tr>\n",
       "    <tr>\n",
       "      <th>50%</th>\n",
       "      <td>2.500000</td>\n",
       "      <td>32.000000</td>\n",
       "      <td>5.000000</td>\n",
       "    </tr>\n",
       "    <tr>\n",
       "      <th>75%</th>\n",
       "      <td>3.750000</td>\n",
       "      <td>32.000000</td>\n",
       "      <td>6.750000</td>\n",
       "    </tr>\n",
       "    <tr>\n",
       "      <th>max</th>\n",
       "      <td>5.000000</td>\n",
       "      <td>35.000000</td>\n",
       "      <td>7.000000</td>\n",
       "    </tr>\n",
       "  </tbody>\n",
       "</table>\n",
       "</div>"
      ],
      "text/plain": [
       "       Unnamed: 0       temp  windspeed\n",
       "count    6.000000   6.000000   6.000000\n",
       "mean     2.500000  30.500000   4.666667\n",
       "std      1.870829   3.885872   2.338090\n",
       "min      0.000000  24.000000   2.000000\n",
       "25%      1.250000  29.000000   2.500000\n",
       "50%      2.500000  32.000000   5.000000\n",
       "75%      3.750000  32.000000   6.750000\n",
       "max      5.000000  35.000000   7.000000"
      ]
     },
     "execution_count": 11,
     "metadata": {},
     "output_type": "execute_result"
    }
   ],
   "source": [
    "df.describe()"
   ]
  },
  {
   "cell_type": "code",
   "execution_count": 12,
   "id": "723195c1",
   "metadata": {},
   "outputs": [
    {
     "data": {
      "text/html": [
       "<div>\n",
       "<style scoped>\n",
       "    .dataframe tbody tr th:only-of-type {\n",
       "        vertical-align: middle;\n",
       "    }\n",
       "\n",
       "    .dataframe tbody tr th {\n",
       "        vertical-align: top;\n",
       "    }\n",
       "\n",
       "    .dataframe thead th {\n",
       "        text-align: right;\n",
       "    }\n",
       "</style>\n",
       "<table border=\"1\" class=\"dataframe\">\n",
       "  <thead>\n",
       "    <tr style=\"text-align: right;\">\n",
       "      <th></th>\n",
       "      <th>Unnamed: 0</th>\n",
       "      <th>day</th>\n",
       "      <th>temp</th>\n",
       "      <th>windspeed</th>\n",
       "      <th>event</th>\n",
       "    </tr>\n",
       "  </thead>\n",
       "  <tbody>\n",
       "    <tr>\n",
       "      <th>0</th>\n",
       "      <td>0</td>\n",
       "      <td>1/1/2017</td>\n",
       "      <td>32</td>\n",
       "      <td>6</td>\n",
       "      <td>Rain</td>\n",
       "    </tr>\n",
       "    <tr>\n",
       "      <th>1</th>\n",
       "      <td>1</td>\n",
       "      <td>1/2/2017</td>\n",
       "      <td>35</td>\n",
       "      <td>7</td>\n",
       "      <td>Sunny</td>\n",
       "    </tr>\n",
       "    <tr>\n",
       "      <th>4</th>\n",
       "      <td>4</td>\n",
       "      <td>1/5/2017</td>\n",
       "      <td>32</td>\n",
       "      <td>4</td>\n",
       "      <td>Rain</td>\n",
       "    </tr>\n",
       "    <tr>\n",
       "      <th>5</th>\n",
       "      <td>5</td>\n",
       "      <td>1/6/2017</td>\n",
       "      <td>32</td>\n",
       "      <td>2</td>\n",
       "      <td>Sunny</td>\n",
       "    </tr>\n",
       "  </tbody>\n",
       "</table>\n",
       "</div>"
      ],
      "text/plain": [
       "   Unnamed: 0       day  temp  windspeed  event\n",
       "0           0  1/1/2017    32          6   Rain\n",
       "1           1  1/2/2017    35          7  Sunny\n",
       "4           4  1/5/2017    32          4   Rain\n",
       "5           5  1/6/2017    32          2  Sunny"
      ]
     },
     "execution_count": 12,
     "metadata": {},
     "output_type": "execute_result"
    }
   ],
   "source": [
    "df[df.temp>=32]"
   ]
  },
  {
   "cell_type": "markdown",
   "id": "3e60bd24",
   "metadata": {},
   "source": [
    "# printing out day that has a max temp and still print out the temp"
   ]
  },
  {
   "cell_type": "code",
   "execution_count": 13,
   "id": "4560485a",
   "metadata": {},
   "outputs": [
    {
     "data": {
      "text/html": [
       "<div>\n",
       "<style scoped>\n",
       "    .dataframe tbody tr th:only-of-type {\n",
       "        vertical-align: middle;\n",
       "    }\n",
       "\n",
       "    .dataframe tbody tr th {\n",
       "        vertical-align: top;\n",
       "    }\n",
       "\n",
       "    .dataframe thead th {\n",
       "        text-align: right;\n",
       "    }\n",
       "</style>\n",
       "<table border=\"1\" class=\"dataframe\">\n",
       "  <thead>\n",
       "    <tr style=\"text-align: right;\">\n",
       "      <th></th>\n",
       "      <th>day</th>\n",
       "      <th>temp</th>\n",
       "    </tr>\n",
       "  </thead>\n",
       "  <tbody>\n",
       "    <tr>\n",
       "      <th>1</th>\n",
       "      <td>1/2/2017</td>\n",
       "      <td>35</td>\n",
       "    </tr>\n",
       "  </tbody>\n",
       "</table>\n",
       "</div>"
      ],
      "text/plain": [
       "        day  temp\n",
       "1  1/2/2017    35"
      ]
     },
     "execution_count": 13,
     "metadata": {},
     "output_type": "execute_result"
    }
   ],
   "source": [
    "df[['day', 'temp']][df.temp == df['temp'].max()]"
   ]
  },
  {
   "cell_type": "code",
   "execution_count": 26,
   "id": "2119de58",
   "metadata": {},
   "outputs": [
    {
     "data": {
      "text/html": [
       "<div>\n",
       "<style scoped>\n",
       "    .dataframe tbody tr th:only-of-type {\n",
       "        vertical-align: middle;\n",
       "    }\n",
       "\n",
       "    .dataframe tbody tr th {\n",
       "        vertical-align: top;\n",
       "    }\n",
       "\n",
       "    .dataframe thead th {\n",
       "        text-align: right;\n",
       "    }\n",
       "</style>\n",
       "<table border=\"1\" class=\"dataframe\">\n",
       "  <thead>\n",
       "    <tr style=\"text-align: right;\">\n",
       "      <th></th>\n",
       "      <th>temperature</th>\n",
       "      <th>windspeed</th>\n",
       "      <th>event</th>\n",
       "    </tr>\n",
       "    <tr>\n",
       "      <th>day</th>\n",
       "      <th></th>\n",
       "      <th></th>\n",
       "      <th></th>\n",
       "    </tr>\n",
       "  </thead>\n",
       "  <tbody>\n",
       "    <tr>\n",
       "      <th>1/1/2017</th>\n",
       "      <td>32</td>\n",
       "      <td>6</td>\n",
       "      <td>Rain</td>\n",
       "    </tr>\n",
       "    <tr>\n",
       "      <th>1/2/2017</th>\n",
       "      <td>35</td>\n",
       "      <td>7</td>\n",
       "      <td>Sunny</td>\n",
       "    </tr>\n",
       "    <tr>\n",
       "      <th>1/3/2017</th>\n",
       "      <td>28</td>\n",
       "      <td>2</td>\n",
       "      <td>Snow</td>\n",
       "    </tr>\n",
       "  </tbody>\n",
       "</table>\n",
       "</div>"
      ],
      "text/plain": [
       "          temperature  windspeed  event\n",
       "day                                    \n",
       "1/1/2017           32          6   Rain\n",
       "1/2/2017           35          7  Sunny\n",
       "1/3/2017           28          2   Snow"
      ]
     },
     "execution_count": 26,
     "metadata": {},
     "output_type": "execute_result"
    }
   ],
   "source": [
    "df.set_index('day', inplace=True)\n",
    "df\n"
   ]
  },
  {
   "cell_type": "code",
   "execution_count": 18,
   "id": "3488dd97",
   "metadata": {},
   "outputs": [
    {
     "data": {
      "text/html": [
       "<div>\n",
       "<style scoped>\n",
       "    .dataframe tbody tr th:only-of-type {\n",
       "        vertical-align: middle;\n",
       "    }\n",
       "\n",
       "    .dataframe tbody tr th {\n",
       "        vertical-align: top;\n",
       "    }\n",
       "\n",
       "    .dataframe thead th {\n",
       "        text-align: right;\n",
       "    }\n",
       "</style>\n",
       "<table border=\"1\" class=\"dataframe\">\n",
       "  <thead>\n",
       "    <tr style=\"text-align: right;\">\n",
       "      <th></th>\n",
       "      <th>Unnamed: 0</th>\n",
       "      <th>temp</th>\n",
       "      <th>windspeed</th>\n",
       "      <th>event</th>\n",
       "    </tr>\n",
       "    <tr>\n",
       "      <th>day</th>\n",
       "      <th></th>\n",
       "      <th></th>\n",
       "      <th></th>\n",
       "      <th></th>\n",
       "    </tr>\n",
       "  </thead>\n",
       "  <tbody>\n",
       "    <tr>\n",
       "      <th>1/1/2017</th>\n",
       "      <td>0</td>\n",
       "      <td>32</td>\n",
       "      <td>6</td>\n",
       "      <td>Rain</td>\n",
       "    </tr>\n",
       "    <tr>\n",
       "      <th>1/2/2017</th>\n",
       "      <td>1</td>\n",
       "      <td>35</td>\n",
       "      <td>7</td>\n",
       "      <td>Sunny</td>\n",
       "    </tr>\n",
       "    <tr>\n",
       "      <th>1/3/2017</th>\n",
       "      <td>2</td>\n",
       "      <td>28</td>\n",
       "      <td>2</td>\n",
       "      <td>Snow</td>\n",
       "    </tr>\n",
       "    <tr>\n",
       "      <th>1/4/2017</th>\n",
       "      <td>3</td>\n",
       "      <td>24</td>\n",
       "      <td>7</td>\n",
       "      <td>Snow</td>\n",
       "    </tr>\n",
       "    <tr>\n",
       "      <th>1/5/2017</th>\n",
       "      <td>4</td>\n",
       "      <td>32</td>\n",
       "      <td>4</td>\n",
       "      <td>Rain</td>\n",
       "    </tr>\n",
       "    <tr>\n",
       "      <th>1/6/2017</th>\n",
       "      <td>5</td>\n",
       "      <td>32</td>\n",
       "      <td>2</td>\n",
       "      <td>Sunny</td>\n",
       "    </tr>\n",
       "  </tbody>\n",
       "</table>\n",
       "</div>"
      ],
      "text/plain": [
       "          Unnamed: 0  temp  windspeed  event\n",
       "day                                         \n",
       "1/1/2017           0    32          6   Rain\n",
       "1/2/2017           1    35          7  Sunny\n",
       "1/3/2017           2    28          2   Snow\n",
       "1/4/2017           3    24          7   Snow\n",
       "1/5/2017           4    32          4   Rain\n",
       "1/6/2017           5    32          2  Sunny"
      ]
     },
     "execution_count": 18,
     "metadata": {},
     "output_type": "execute_result"
    }
   ],
   "source": [
    "df\n"
   ]
  },
  {
   "cell_type": "code",
   "execution_count": 16,
   "id": "08de9e74",
   "metadata": {},
   "outputs": [
    {
     "data": {
      "text/plain": [
       "Unnamed: 0       2\n",
       "temp            28\n",
       "windspeed        2\n",
       "event         Snow\n",
       "Name: 1/3/2017, dtype: object"
      ]
     },
     "execution_count": 16,
     "metadata": {},
     "output_type": "execute_result"
    }
   ],
   "source": [
    "df.loc['1/3/2017']"
   ]
  },
  {
   "cell_type": "code",
   "execution_count": 21,
   "id": "671d3d2d",
   "metadata": {},
   "outputs": [
    {
     "data": {
      "text/html": [
       "<div>\n",
       "<style scoped>\n",
       "    .dataframe tbody tr th:only-of-type {\n",
       "        vertical-align: middle;\n",
       "    }\n",
       "\n",
       "    .dataframe tbody tr th {\n",
       "        vertical-align: top;\n",
       "    }\n",
       "\n",
       "    .dataframe thead th {\n",
       "        text-align: right;\n",
       "    }\n",
       "</style>\n",
       "<table border=\"1\" class=\"dataframe\">\n",
       "  <thead>\n",
       "    <tr style=\"text-align: right;\">\n",
       "      <th></th>\n",
       "      <th>Unnamed: 0</th>\n",
       "      <th>day</th>\n",
       "      <th>temp</th>\n",
       "      <th>windspeed</th>\n",
       "      <th>event</th>\n",
       "    </tr>\n",
       "  </thead>\n",
       "  <tbody>\n",
       "    <tr>\n",
       "      <th>0</th>\n",
       "      <td>0</td>\n",
       "      <td>2017-01-01</td>\n",
       "      <td>32</td>\n",
       "      <td>6</td>\n",
       "      <td>Rain</td>\n",
       "    </tr>\n",
       "    <tr>\n",
       "      <th>1</th>\n",
       "      <td>1</td>\n",
       "      <td>2017-01-02</td>\n",
       "      <td>35</td>\n",
       "      <td>7</td>\n",
       "      <td>Sunny</td>\n",
       "    </tr>\n",
       "    <tr>\n",
       "      <th>2</th>\n",
       "      <td>2</td>\n",
       "      <td>2017-01-03</td>\n",
       "      <td>28</td>\n",
       "      <td>2</td>\n",
       "      <td>Snow</td>\n",
       "    </tr>\n",
       "    <tr>\n",
       "      <th>3</th>\n",
       "      <td>3</td>\n",
       "      <td>2017-01-04</td>\n",
       "      <td>24</td>\n",
       "      <td>7</td>\n",
       "      <td>Snow</td>\n",
       "    </tr>\n",
       "    <tr>\n",
       "      <th>4</th>\n",
       "      <td>4</td>\n",
       "      <td>2017-01-05</td>\n",
       "      <td>32</td>\n",
       "      <td>4</td>\n",
       "      <td>Rain</td>\n",
       "    </tr>\n",
       "    <tr>\n",
       "      <th>5</th>\n",
       "      <td>5</td>\n",
       "      <td>2017-01-06</td>\n",
       "      <td>32</td>\n",
       "      <td>2</td>\n",
       "      <td>Sunny</td>\n",
       "    </tr>\n",
       "  </tbody>\n",
       "</table>\n",
       "</div>"
      ],
      "text/plain": [
       "   Unnamed: 0        day  temp  windspeed  event\n",
       "0           0 2017-01-01    32          6   Rain\n",
       "1           1 2017-01-02    35          7  Sunny\n",
       "2           2 2017-01-03    28          2   Snow\n",
       "3           3 2017-01-04    24          7   Snow\n",
       "4           4 2017-01-05    32          4   Rain\n",
       "5           5 2017-01-06    32          2  Sunny"
      ]
     },
     "execution_count": 21,
     "metadata": {},
     "output_type": "execute_result"
    }
   ],
   "source": [
    "df = pd.read_excel('C:/Users/udoha/Desktop/daytempFile.xlsx',\"Sheet1\")\n",
    "df"
   ]
  },
  {
   "cell_type": "markdown",
   "id": "82759525",
   "metadata": {},
   "source": [
    "# making data frame with python dictionaries"
   ]
  },
  {
   "cell_type": "code",
   "execution_count": 22,
   "id": "6cf3eefc",
   "metadata": {},
   "outputs": [
    {
     "data": {
      "text/html": [
       "<div>\n",
       "<style scoped>\n",
       "    .dataframe tbody tr th:only-of-type {\n",
       "        vertical-align: middle;\n",
       "    }\n",
       "\n",
       "    .dataframe tbody tr th {\n",
       "        vertical-align: top;\n",
       "    }\n",
       "\n",
       "    .dataframe thead th {\n",
       "        text-align: right;\n",
       "    }\n",
       "</style>\n",
       "<table border=\"1\" class=\"dataframe\">\n",
       "  <thead>\n",
       "    <tr style=\"text-align: right;\">\n",
       "      <th></th>\n",
       "      <th>day</th>\n",
       "      <th>temperature</th>\n",
       "      <th>windspeed</th>\n",
       "      <th>event</th>\n",
       "    </tr>\n",
       "  </thead>\n",
       "  <tbody>\n",
       "    <tr>\n",
       "      <th>0</th>\n",
       "      <td>1/1/2017</td>\n",
       "      <td>32</td>\n",
       "      <td>6</td>\n",
       "      <td>Rain</td>\n",
       "    </tr>\n",
       "    <tr>\n",
       "      <th>1</th>\n",
       "      <td>1/2/2017</td>\n",
       "      <td>35</td>\n",
       "      <td>7</td>\n",
       "      <td>Sunny</td>\n",
       "    </tr>\n",
       "    <tr>\n",
       "      <th>2</th>\n",
       "      <td>1/3/2017</td>\n",
       "      <td>28</td>\n",
       "      <td>2</td>\n",
       "      <td>Snow</td>\n",
       "    </tr>\n",
       "  </tbody>\n",
       "</table>\n",
       "</div>"
      ],
      "text/plain": [
       "        day  temperature  windspeed  event\n",
       "0  1/1/2017           32          6   Rain\n",
       "1  1/2/2017           35          7  Sunny\n",
       "2  1/3/2017           28          2   Snow"
      ]
     },
     "execution_count": 22,
     "metadata": {},
     "output_type": "execute_result"
    }
   ],
   "source": [
    "weather_data = {\n",
    "    'day': ['1/1/2017', '1/2/2017', '1/3/2017'],\n",
    "    'temperature': [32,35,28],\n",
    "    'windspeed': [6,7,2],\n",
    "    'event': ['Rain', 'Sunny', 'Snow']\n",
    "}\n",
    "df = pd.DataFrame(weather_data)\n",
    "df"
   ]
  },
  {
   "cell_type": "code",
   "execution_count": null,
   "id": "6ce56af6",
   "metadata": {},
   "outputs": [],
   "source": []
  },
  {
   "cell_type": "markdown",
   "id": "36b3f46d",
   "metadata": {},
   "source": [
    "# making dataframe with python tuples"
   ]
  },
  {
   "cell_type": "code",
   "execution_count": 25,
   "id": "39e20e35",
   "metadata": {},
   "outputs": [
    {
     "data": {
      "text/html": [
       "<div>\n",
       "<style scoped>\n",
       "    .dataframe tbody tr th:only-of-type {\n",
       "        vertical-align: middle;\n",
       "    }\n",
       "\n",
       "    .dataframe tbody tr th {\n",
       "        vertical-align: top;\n",
       "    }\n",
       "\n",
       "    .dataframe thead th {\n",
       "        text-align: right;\n",
       "    }\n",
       "</style>\n",
       "<table border=\"1\" class=\"dataframe\">\n",
       "  <thead>\n",
       "    <tr style=\"text-align: right;\">\n",
       "      <th></th>\n",
       "      <th>day</th>\n",
       "      <th>temperature</th>\n",
       "      <th>windspeed</th>\n",
       "      <th>event</th>\n",
       "    </tr>\n",
       "  </thead>\n",
       "  <tbody>\n",
       "    <tr>\n",
       "      <th>0</th>\n",
       "      <td>1/1/2017</td>\n",
       "      <td>32</td>\n",
       "      <td>6</td>\n",
       "      <td>Rain</td>\n",
       "    </tr>\n",
       "    <tr>\n",
       "      <th>1</th>\n",
       "      <td>1/2/2017</td>\n",
       "      <td>35</td>\n",
       "      <td>7</td>\n",
       "      <td>Sunny</td>\n",
       "    </tr>\n",
       "    <tr>\n",
       "      <th>2</th>\n",
       "      <td>1/3/2017</td>\n",
       "      <td>28</td>\n",
       "      <td>2</td>\n",
       "      <td>Snow</td>\n",
       "    </tr>\n",
       "  </tbody>\n",
       "</table>\n",
       "</div>"
      ],
      "text/plain": [
       "        day  temperature  windspeed  event\n",
       "0  1/1/2017           32          6   Rain\n",
       "1  1/2/2017           35          7  Sunny\n",
       "2  1/3/2017           28          2   Snow"
      ]
     },
     "execution_count": 25,
     "metadata": {},
     "output_type": "execute_result"
    }
   ],
   "source": [
    "weather_data = [\n",
    "    ('1/1/2017', 32, 6, 'Rain'),\n",
    "    ('1/2/2017', 35, 7, 'Sunny'),\n",
    "    ('1/3/2017', 28, 2, 'Snow')\n",
    "]\n",
    "df = pd.DataFrame(weather_data, columns=[\"day\", 'temperature','windspeed','event'])\n",
    "df"
   ]
  }
 ],
 "metadata": {
  "kernelspec": {
   "display_name": "Python 3 (ipykernel)",
   "language": "python",
   "name": "python3"
  },
  "language_info": {
   "codemirror_mode": {
    "name": "ipython",
    "version": 3
   },
   "file_extension": ".py",
   "mimetype": "text/x-python",
   "name": "python",
   "nbconvert_exporter": "python",
   "pygments_lexer": "ipython3",
   "version": "3.9.13"
  }
 },
 "nbformat": 4,
 "nbformat_minor": 5
}
